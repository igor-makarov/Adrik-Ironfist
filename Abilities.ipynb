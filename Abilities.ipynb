{
  "metadata": {
    "kernelspec": {
      "name": "python",
      "display_name": "Python (Pyodide)",
      "language": "python"
    },
    "language_info": {
      "codemirror_mode": {
        "name": "python",
        "version": 3
      },
      "file_extension": ".py",
      "mimetype": "text/x-python",
      "name": "python",
      "nbconvert_exporter": "python",
      "pygments_lexer": "ipython3",
      "version": "3.8"
    }
  },
  "nbformat_minor": 4,
  "nbformat": 4,
  "cells": [
    {
      "cell_type": "code",
      "source": "from IPython.display import Markdown, display\n\nabilities = {\n'STR': 0,\n'DEX': 1,\n'CON': 2,\n'INT': 2,\n'WIS': 3,\n'CHA': 1\n}\n\nPROF = 3\n\nproficiencies = { None: 0, 'P': PROF, 'E': 2*PROF } \n\ndef printmd(string):\n    display(Markdown(string))\n    \ndef ability_check(skill, ability, prof):\n  proficiency = prof or ' '\n  bonus = abilities[ability] + proficiencies[prof]\n  printmd(f'`[{proficiency}]`{skill} ({ability}) [d20+{bonus}](dice://roll/d20+{bonus})')  \n\nability_check('Athletics', 'STR', None)\nability_check('Arcana', 'INT', 'P')\nability_check('Arcana', 'INT', 'E')",
      "metadata": {
        "trusted": true
      },
      "outputs": [
        {
          "output_type": "display_data",
          "data": {
            "text/plain": "<IPython.core.display.Markdown object>",
            "text/markdown": "`[ ]`Athletics (STR) [d20+0](dice://roll/d20+0)"
          },
          "metadata": {}
        },
        {
          "output_type": "display_data",
          "data": {
            "text/plain": "<IPython.core.display.Markdown object>",
            "text/markdown": "`[P]`Arcana (INT) [d20+5](dice://roll/d20+5)"
          },
          "metadata": {}
        },
        {
          "output_type": "display_data",
          "data": {
            "text/plain": "<IPython.core.display.Markdown object>",
            "text/markdown": "`[E]`Arcana (INT) [d20+8](dice://roll/d20+8)"
          },
          "metadata": {}
        }
      ],
      "execution_count": 1
    },
    {
      "cell_type": "code",
      "source": "",
      "metadata": {
        "trusted": true
      },
      "outputs": [],
      "execution_count": null
    }
  ]
}